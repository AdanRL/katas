{
  "cells": [
    {
      "cell_type": "markdown",
      "metadata": {
        "id": "p78JwITyQ-un"
      },
      "source": [
        "# Statistics for an Athletic Association\n",
        "\n",
        "## DESCRIPTION:\n",
        "You are the \"computer expert\" of a local Athletic Association (C.A.A.). Many teams of runners come to compete. Each time you get a string of all race results of every team who has run. For example here is a string showing the individual results of a team of 5 runners:\n",
        "\n",
        "\"01|15|59, 1|47|6, 01|17|20, 1|32|34, 2|3|17\"\n",
        "\n",
        "Each part of the string is of the form: h|m|s where h, m, s (h for hour, m for minutes, s for seconds) are positive or null integer (represented as strings) with one or two digits. Substrings in the input string are separated by ,  or ,.\n",
        "\n",
        "To compare the results of the teams you are asked for giving three statistics; range, average and median.\n",
        "\n",
        "Range : difference between the lowest and highest values. In {4, 6, 9, 3, 7} the lowest value is 3, and the highest is 9, so the range is 9 − 3 = 6.\n",
        "\n",
        "Mean or Average : To calculate mean, add together all of the numbers and then divide the sum by the total count of numbers.\n",
        "\n",
        "Median : In statistics, the median is the number separating the higher half of a data sample from the lower half. The median of a finite list of numbers can be found by arranging all the observations from lowest value to highest value and picking the middle one (e.g., the median of {3, 3, 5, 9, 11} is 5) when there is an odd number of observations. If there is an even number of observations, then there is no single middle value; the median is then defined to be the mean of the two middle values (the median of {3, 5, 6, 9} is (5 + 6) / 2 = 5.5).\n",
        "\n",
        "Your task is to return a string giving these 3 values. For the example given above, the string result will be\n",
        "\n",
        "\"Range: 00|47|18 Average: 01|35|15 Median: 01|32|34\"\n",
        "\n",
        "of the form: \"Range: hh|mm|ss Average: hh|mm|ss Median: hh|mm|ss\"`\n",
        "\n",
        "where hh, mm, ss are integers (represented by strings) with each 2 digits.\n",
        "\n",
        "Remarks:\n",
        "1. if a result in seconds is ab.xy... it will be given truncated as ab.\n",
        "2. if the given string is \"\" you will return \"\""
      ]
    },
    {
      "cell_type": "code",
      "execution_count": 1,
      "metadata": {
        "id": "alIFP6CVAzE4"
      },
      "outputs": [],
      "source": [
        "import datetime"
      ]
    },
    {
      "cell_type": "code",
      "execution_count": 2,
      "metadata": {
        "id": "eyWaSxlKA-Jo"
      },
      "outputs": [],
      "source": [
        "def pass_to_seconds(strg):\n",
        "    team_score = strg.split(\",\")\n",
        "    result = []\n",
        "    for individual_score in team_score:\n",
        "      time_sp = individual_score.split(\"|\")\n",
        "      time = datetime.time(int(time_sp[0]), int(time_sp[1]), int(time_sp[2]))\n",
        "      seconds = datetime.timedelta(hours=time.hour, minutes=time.minute, seconds=time.second).total_seconds()\n",
        "      result.append(seconds)\n",
        "    return result"
      ]
    },
    {
      "cell_type": "code",
      "execution_count": 3,
      "metadata": {
        "id": "w3OeEQLUA-Mf"
      },
      "outputs": [],
      "source": [
        "def calc_median(score):\n",
        "  sorted_score = sorted(score)\n",
        "  leng = len(sorted_score)\n",
        "  if leng % 2 == 0:\n",
        "      median_1 = sorted_score[leng//2 - 1]\n",
        "      median_2 = sorted_score[leng//2]\n",
        "      median = (median_1 + median_2) / 2\n",
        "  else:\n",
        "      median = sorted_score[leng//2]\n",
        "  return median"
      ]
    },
    {
      "cell_type": "code",
      "execution_count": 4,
      "metadata": {
        "id": "sSiakxmyA-Dt"
      },
      "outputs": [],
      "source": [
        "def stat(strg):\n",
        "    # your code\n",
        "    if strg != \"\":\n",
        "      team_score = pass_to_seconds(strg)\n",
        "      base_date = datetime.datetime(1900, 1, 1)\n",
        "\n",
        "      average = sum(team_score) / len(team_score)\n",
        "      average = base_date + datetime.timedelta(seconds=average)\n",
        "      average = average.strftime('%H|%M|%S')\n",
        "\n",
        "      range = max(team_score) - min(team_score)\n",
        "      range = base_date + datetime.timedelta(seconds=range)\n",
        "      range = range.strftime('%H|%M|%S')\n",
        "\n",
        "      median = calc_median(team_score)\n",
        "      median = base_date + datetime.timedelta(seconds=median)\n",
        "      median = median.strftime('%H|%M|%S')\n",
        "\n",
        "      return f\"Range: {range} Average: {average} Median: {median}\"\n",
        "    return \"\""
      ]
    },
    {
      "cell_type": "code",
      "execution_count": 5,
      "metadata": {
        "colab": {
          "base_uri": "https://localhost:8080/",
          "height": 35
        },
        "id": "SeG3KjVrA-Gw",
        "outputId": "707cc594-8518-49fd-b9f9-0935a9d62bf3"
      },
      "outputs": [
        {
          "data": {
            "text/plain": [
              "'Range: 00|47|18 Average: 01|35|15 Median: 01|32|34'"
            ]
          },
          "execution_count": 5,
          "metadata": {},
          "output_type": "execute_result"
        }
      ],
      "source": [
        "solution = stat(\"01|15|59, 1|47|6, 01|17|20, 1|32|34, 2|3|17\")\n",
        "solution"
      ]
    }
  ],
  "metadata": {
    "colab": {
      "provenance": []
    },
    "kernelspec": {
      "display_name": "Python 3",
      "name": "python3"
    },
    "language_info": {
      "codemirror_mode": {
        "name": "ipython",
        "version": 3
      },
      "file_extension": ".py",
      "mimetype": "text/x-python",
      "name": "python",
      "nbconvert_exporter": "python",
      "pygments_lexer": "ipython3",
      "version": "3.9.6"
    }
  },
  "nbformat": 4,
  "nbformat_minor": 0
}
